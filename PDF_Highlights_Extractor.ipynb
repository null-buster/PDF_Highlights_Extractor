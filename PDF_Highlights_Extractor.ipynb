{
  "nbformat": 4,
  "nbformat_minor": 0,
  "metadata": {
    "colab": {
      "name": "PDF_Highlights_Extractor.ipynb",
      "provenance": [],
      "collapsed_sections": [],
      "authorship_tag": "ABX9TyPP4tmF0nw0unVMMeLWRtSP",
      "include_colab_link": true
    },
    "kernelspec": {
      "name": "python3",
      "display_name": "Python 3"
    }
  },
  "cells": [
    {
      "cell_type": "markdown",
      "metadata": {
        "id": "view-in-github",
        "colab_type": "text"
      },
      "source": [
        "<a href=\"https://colab.research.google.com/github/null-buster/PDF_Highlights_Extractor/blob/main/PDF_Highlights_Extractor.ipynb\" target=\"_parent\"><img src=\"https://colab.research.google.com/assets/colab-badge.svg\" alt=\"Open In Colab\"/></a>"
      ]
    },
    {
      "cell_type": "code",
      "metadata": {
        "colab": {
          "base_uri": "https://localhost:8080/"
        },
        "id": "RUVV9OfvjcBS",
        "outputId": "c23ec1c6-37a4-4f7a-bf1e-5af2bb0129e1"
      },
      "source": [
        "!pip install pymupdf"
      ],
      "execution_count": null,
      "outputs": [
        {
          "output_type": "stream",
          "text": [
            "Collecting pymupdf\n",
            "\u001b[?25l  Downloading https://files.pythonhosted.org/packages/31/22/d59001c1d7df4a1839924c0ca67a3313cbcdadb7a14300f7079440f66c9f/PyMuPDF-1.18.5-cp36-cp36m-manylinux2010_x86_64.whl (6.3MB)\n",
            "\u001b[K     |████████████████████████████████| 6.3MB 3.7MB/s \n",
            "\u001b[?25hInstalling collected packages: pymupdf\n",
            "Successfully installed pymupdf-1.18.5\n"
          ],
          "name": "stdout"
        }
      ]
    },
    {
      "cell_type": "code",
      "metadata": {
        "id": "-iw_E4EMjg01"
      },
      "source": [
        "from typing import List, Tuple\r\n",
        "\r\n",
        "import fitz  # installed with 'pip install pymupdf'\r\n",
        "import os\r\n"
      ],
      "execution_count": null,
      "outputs": []
    },
    {
      "cell_type": "code",
      "metadata": {
        "id": "ONB63D_BjlLu"
      },
      "source": [
        "def _parse_highlight(annot: fitz.Annot, wordlist: List[Tuple[float, float, float, float, str, int, int, int]]) -> str:\r\n",
        "    points = annot.vertices\r\n",
        "    quad_count = int(len(points) / 4)\r\n",
        "    sentences = []\r\n",
        "    for i in range(quad_count):\r\n",
        "        # where the highlighted part is\r\n",
        "        r = fitz.Quad(points[i * 4 : i * 4 + 4]).rect\r\n",
        "\r\n",
        "        words = [w for w in wordlist if fitz.Rect(w[:4]).intersects(r)]\r\n",
        "        sentences.append(\" \".join(w[4] for w in words))\r\n",
        "    sentence = \" \".join(sentences)\r\n",
        "    return sentence\r\n"
      ],
      "execution_count": null,
      "outputs": []
    },
    {
      "cell_type": "code",
      "metadata": {
        "id": "kDBE8laLjm-J"
      },
      "source": [
        "def handle_page(page):\r\n",
        "    wordlist = page.getText(\"words\")  # list of words on page\r\n",
        "    wordlist.sort(key=lambda w: (w[3], w[0]))  # ascending y, then x\r\n",
        "\r\n",
        "    highlights = []\r\n",
        "    annot = page.firstAnnot\r\n",
        "    while annot:\r\n",
        "        if annot.type[0] == 8:\r\n",
        "            highlights.append(_parse_highlight(annot, wordlist))\r\n",
        "        annot = annot.next\r\n",
        "    return highlights"
      ],
      "execution_count": null,
      "outputs": []
    },
    {
      "cell_type": "code",
      "metadata": {
        "id": "BGXwLn3Fjo7h"
      },
      "source": [
        "def extract_highlight(filepath: str) -> List:\r\n",
        "    doc = fitz.open(filepath)\r\n",
        "\r\n",
        "    highlights = []\r\n",
        "    for page in doc:\r\n",
        "        highlights += handle_page(page)\r\n",
        "\r\n",
        "    return highlights"
      ],
      "execution_count": null,
      "outputs": []
    },
    {
      "cell_type": "code",
      "metadata": {
        "id": "e1OmjtjF7eZm"
      },
      "source": [
        "def read_pdf_paths(folder_name, output_folder):\r\n",
        "  path_to_files = os.listdir(os.path.abspath('.') + '/' + folder_name)\r\n",
        "  for entry in path_to_files:\r\n",
        "    if entry.split('.')[-1] == 'pdf':\r\n",
        "      #print(\"Processing Pdf : \" + entry)\r\n",
        "      final_highlight = extract_highlight(os.path.abspath('.') + '/' + folder_name + '/' + entry)\r\n",
        "      with open(os.path.abspath('.') + '/' + output_folder + '/Highlights_' + entry.split('.')[-2] + '.txt', 'w' ) as f:\r\n",
        "        f.write(\"Highlighted text of \" + entry.split('.')[-2]+\":\\n\\n\" )\r\n",
        "        f.write(\"\\n\\n===========================================\\n\\n\" )\r\n",
        "        for elements in final_highlight:\r\n",
        "          f.write('\\n\\n'+elements)\r\n",
        "        #f.write(final_highlight)\r\n",
        "      print(entry + '\\n')\r\n",
        "      print(\"Highlights of \" + entry.split('.')[-2]+\" is :\\n\")\r\n",
        "      print(final_highlight)\r\n",
        "      print('\\n\\n')"
      ],
      "execution_count": null,
      "outputs": []
    },
    {
      "cell_type": "code",
      "metadata": {
        "id": "QQqZa32D8TbG"
      },
      "source": [
        "pdf_folder = '/pdf_folder'\r\n",
        "if not os.path.exists(os.path.abspath('.') + pdf_folder):\r\n",
        "  os.mkdir(os.path.abspath('.') + pdf_folder)\r\n",
        "summary_folder = '/highlights_folder'\r\n",
        "if not os.path.exists(os.path.abspath('.') + summary_folder):\r\n",
        "  os.mkdir(os.path.abspath('.') + summary_folder)"
      ],
      "execution_count": null,
      "outputs": []
    },
    {
      "cell_type": "code",
      "metadata": {
        "id": "TuBPe9vV8aAI",
        "colab": {
          "base_uri": "https://localhost:8080/"
        },
        "outputId": "2f3c5049-1700-4bfa-f998-b51564a874f9"
      },
      "source": [
        "read_pdf_paths('pdf_folder', 'highlights_folder')"
      ],
      "execution_count": null,
      "outputs": [
        {
          "output_type": "stream",
          "text": [
            "COVID_19.pdf\n",
            "\n",
            "Highlights of COVID_19 is :\n",
            "\n",
            "['The COVID-19 recovery will be digital: A plan The COVID-19 recovery will be digital: A plan for the first 90 days will be digital: A plan for the first 90 days', 'The rapid migration to digital technologies driven by the pandemic will continue into the recovery. Here’s how to accelerate your The rapid migration to digital technologies will continue into the recovery. organization’s digital capabilities', 'As some regions begin reopening, businesses are considering how to return to some semblance of full speed in an unstable environment in which lockdowns will ease (and potentially be reinstated) in waves. In doing so, they will need to confront three structural changes that are playing out.', 'Selectively modernize technology Selectively modernize technology capabilities capabilities', '“Safe-o-meter” to plan “Safe-o-meter” to plan options options', 'As CIOs consider upgrading their tech stacks, two features of a modern technology environment are particularly important and can be rapidly implemented: a cloud-based data platform and an automated software-delivery pipeline (commonly called “continuous integration and continuous delivery”). Without', 'The COVID-19 recovery will be digital: A plan for the first 90 days', 'days', 'Remote working can help organizations move at a faster clip as companies tap Remote working can help organizations move at a faster clip as companies tap into new labor pools and specialized move at a faster clip as companies tap into new labor pools and specialized remote expertise. (And, yes, agile can into new labor pools and specialized remote expertise. (And, yes, agile can be executed remotely.) remote expertise. (And, be executed remotely.)', 'Aamer Baig Paul Jenkins is a senior partner in McKinsey’s Chicago office; Bryce Jenkins is a senior partner in the Oslo office; Eric Lamarre Bryce Hall Lamarre is a senior Hall is an associate partner in the Washington, DC, office; senior partner in the Boston office; and Brian McCarthy is Paul Jenkins is a senior partner in the Oslo office; Eric the Atlanta office. Eric Lamarre Lamarre is a senior partner in the Boston office; and Brian Brian McCarthy McCarthy is a partner in the Atlanta office.']\n",
            "\n",
            "\n",
            "\n"
          ],
          "name": "stdout"
        }
      ]
    },
    {
      "cell_type": "code",
      "metadata": {
        "id": "qG1VotgalA3s"
      },
      "source": [
        "#for elements in main(\"COVID_19.pdf\"):\r\n",
        " # print(\"\\n\" + elements)"
      ],
      "execution_count": null,
      "outputs": []
    },
    {
      "cell_type": "code",
      "metadata": {
        "id": "DljWuoPcjsR6"
      },
      "source": [
        "#print(main(\"COVID_19.pdf\"))"
      ],
      "execution_count": null,
      "outputs": []
    }
  ]
}